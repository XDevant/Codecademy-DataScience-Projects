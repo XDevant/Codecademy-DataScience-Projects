{
 "cells": [
  {
   "cell_type": "markdown",
   "metadata": {},
   "source": [
    "Hurricane analysis"
   ]
  },
  {
   "cell_type": "code",
   "execution_count": 3,
   "metadata": {},
   "outputs": [],
   "source": [
    "# names of hurricanes\n",
    "names = ['Cuba I', 'San Felipe II Okeechobee', 'Bahamas', 'Cuba II', 'CubaBrownsville', 'Tampico', 'Labor Day', 'New England', 'Carol', 'Janet', 'Carla', 'Hattie', 'Beulah', 'Camille', 'Edith', 'Anita', 'David', 'Allen', 'Gilbert', 'Hugo', 'Andrew', 'Mitch', 'Isabel', 'Ivan', 'Emily', 'Katrina', 'Rita', 'Wilma', 'Dean', 'Felix', 'Matthew', 'Irma', 'Maria', 'Michael']\n",
    "\n",
    "# months of hurricanes\n",
    "months = ['October', 'September', 'September', 'November', 'August', 'September', 'September', 'September', 'September', 'September', 'September', 'October', 'September', 'August', 'September', 'September', 'August', 'August', 'September', 'September', 'August', 'October', 'September', 'September', 'July', 'August', 'September', 'October', 'August', 'September', 'October', 'September', 'September', 'October']\n",
    "\n",
    "# years of hurricanes\n",
    "years = [1924, 1928, 1932, 1932, 1933, 1933, 1935, 1938, 1953, 1955, 1961, 1961, 1967, 1969, 1971, 1977, 1979, 1980, 1988, 1989, 1992, 1998, 2003, 2004, 2005, 2005, 2005, 2005, 2007, 2007, 2016, 2017, 2017, 2018]\n",
    "\n",
    "# maximum sustained winds (mph) of hurricanes\n",
    "max_sustained_winds = [165, 160, 160, 175, 160, 160, 185, 160, 160, 175, 175, 160, 160, 175, 160, 175, 175, 190, 185, 160, 175, 180, 165, 165, 160, 175, 180, 185, 175, 175, 165, 180, 175, 160]\n",
    "\n",
    "# areas affected by each hurricane\n",
    "areas_affected = [['Central America', 'Mexico', 'Cuba', 'Florida', 'The Bahamas'], ['Lesser Antilles', 'The Bahamas', 'United States East Coast', 'Atlantic Canada'], ['The Bahamas', 'Northeastern United States'], ['Lesser Antilles', 'Jamaica', 'Cayman Islands', 'Cuba', 'The Bahamas', 'Bermuda'], ['The Bahamas', 'Cuba', 'Florida', 'Texas', 'Tamaulipas'], ['Jamaica', 'Yucatn Peninsula'], ['The Bahamas', 'Florida', 'Georgia', 'The Carolinas', 'Virginia'], ['Southeastern United States', 'Northeastern United States', 'Southwestern Quebec'], ['Bermuda', 'New England', 'Atlantic Canada'], ['Lesser Antilles', 'Central America'], ['Texas', 'Louisiana', 'Midwestern United States'], ['Central America'], ['The Caribbean', 'Mexico', 'Texas'], ['Cuba', 'United States Gulf Coast'], ['The Caribbean', 'Central America', 'Mexico', 'United States Gulf Coast'], ['Mexico'], ['The Caribbean', 'United States East coast'], ['The Caribbean', 'Yucatn Peninsula', 'Mexico', 'South Texas'], ['Jamaica', 'Venezuela', 'Central America', 'Hispaniola', 'Mexico'], ['The Caribbean', 'United States East Coast'], ['The Bahamas', 'Florida', 'United States Gulf Coast'], ['Central America', 'Yucatn Peninsula', 'South Florida'], ['Greater Antilles', 'Bahamas', 'Eastern United States', 'Ontario'], ['The Caribbean', 'Venezuela', 'United States Gulf Coast'], ['Windward Islands', 'Jamaica', 'Mexico', 'Texas'], ['Bahamas', 'United States Gulf Coast'], ['Cuba', 'United States Gulf Coast'], ['Greater Antilles', 'Central America', 'Florida'], ['The Caribbean', 'Central America'], ['Nicaragua', 'Honduras'], ['Antilles', 'Venezuela', 'Colombia', 'United States East Coast', 'Atlantic Canada'], ['Cape Verde', 'The Caribbean', 'British Virgin Islands', 'U.S. Virgin Islands', 'Cuba', 'Florida'], ['Lesser Antilles', 'Virgin Islands', 'Puerto Rico', 'Dominican Republic', 'Turks and Caicos Islands'], ['Central America', 'United States Gulf Coast (especially Florida Panhandle)']]\n",
    "\n",
    "# damages (USD($)) of hurricanes\n",
    "damages = ['Damages not recorded', '100M', 'Damages not recorded', '40M', '27.9M', '5M', 'Damages not recorded', '306M', '2M', '65.8M', '326M', '60.3M', '208M', '1.42B', '25.4M', 'Damages not recorded', '1.54B', '1.24B', '7.1B', '10B', '26.5B', '6.2B', '5.37B', '23.3B', '1.01B', '125B', '12B', '29.4B', '1.76B', '720M', '15.1B', '64.8B', '91.6B', '25.1B']\n",
    "\n",
    "# deaths for each hurricane\n",
    "deaths = [90,4000,16,3103,179,184,408,682,5,1023,43,319,688,259,37,11,2068,269,318,107,65,19325,51,124,17,1836,125,87,45,133,603,138,3057,74]\n"
   ]
  },
  {
   "cell_type": "markdown",
   "metadata": {},
   "source": [
    "1 Write a function that returns a new list of updated damages where the recorded data is converted to float values and the missing data is retained as \"Damages not recorded\".\n",
    " Test your function with the data stored in damages."
   ]
  },
  {
   "cell_type": "code",
   "execution_count": 42,
   "metadata": {},
   "outputs": [
    {
     "name": "stdout",
     "output_type": "stream",
     "text": [
      "['Damages not recorded', 100000000, 'Damages not recorded', 40000000, 27900000, 5000000, 'Damages not recorded', 306000000, 2000000, 65800000, 326000000, 60300000, 208000000, 1420000000, 25400000, 'Damages not recorded', 1540000000, 1240000000, 7100000000, 10000000000, 26500000000, 6200000000, 5370000000, 23300000000, 1010000000, 125000000000, 12000000000, 29400000000, 1760000000, 720000000, 15100000000, 64800000000, 91600000000, 25100000000]\n"
     ]
    }
   ],
   "source": [
    "def update_damage(damages):\n",
    "    updated_damage = []\n",
    "    for damage in damages:\n",
    "        if 'M' in damage:\n",
    "            damage = round(float(damage[:len(damage)-1])*1000000)\n",
    "        elif 'B' in damage:\n",
    "            damage = round(float(damage[:len(damage)-1])*1000000000)\n",
    "        updated_damage.append(damage)\n",
    "    return updated_damage\n",
    "updated_damages = update_damage(damages)\n",
    "print(updated_damages)"
   ]
  },
  {
   "attachments": {},
   "cell_type": "markdown",
   "metadata": {},
   "source": [
    "2 Write a function that constructs a dictionary made out of the lists, where the keys of the dictionary are the names of the hurricanes, and the values are dictionaries themselves containing a key for each piece of data (Name, Month, Year,Max Sustained Wind, Areas Affected, Damage, Death) about the hurricane.\n",
    " Test your function on the lists of data provided"
   ]
  },
  {
   "cell_type": "code",
   "execution_count": 43,
   "metadata": {},
   "outputs": [
    {
     "name": "stdout",
     "output_type": "stream",
     "text": [
      "{'Cuba I': {'Name': 'Cuba I', 'Month': 'October', 'Year': 1924, 'Max_Sustained_Wind': 165, 'Areas_Affected': ['Central America', 'Mexico', 'Cuba', 'Florida', 'The Bahamas'], 'Damage': 'Damages not recorded', 'Deaths': 90}, 'San Felipe II Okeechobee': {'Name': 'San Felipe II Okeechobee', 'Month': 'September', 'Year': 1928, 'Max_Sustained_Wind': 160, 'Areas_Affected': ['Lesser Antilles', 'The Bahamas', 'United States East Coast', 'Atlantic Canada'], 'Damage': 100000000, 'Deaths': 4000}, 'Bahamas': {'Name': 'Bahamas', 'Month': 'September', 'Year': 1932, 'Max_Sustained_Wind': 160, 'Areas_Affected': ['The Bahamas', 'Northeastern United States'], 'Damage': 'Damages not recorded', 'Deaths': 16}, 'Cuba II': {'Name': 'Cuba II', 'Month': 'November', 'Year': 1932, 'Max_Sustained_Wind': 175, 'Areas_Affected': ['Lesser Antilles', 'Jamaica', 'Cayman Islands', 'Cuba', 'The Bahamas', 'Bermuda'], 'Damage': 40000000, 'Deaths': 3103}, 'CubaBrownsville': {'Name': 'CubaBrownsville', 'Month': 'August', 'Year': 1933, 'Max_Sustained_Wind': 160, 'Areas_Affected': ['The Bahamas', 'Cuba', 'Florida', 'Texas', 'Tamaulipas'], 'Damage': 27900000, 'Deaths': 179}, 'Tampico': {'Name': 'Tampico', 'Month': 'September', 'Year': 1933, 'Max_Sustained_Wind': 160, 'Areas_Affected': ['Jamaica', 'Yucatn Peninsula'], 'Damage': 5000000, 'Deaths': 184}, 'Labor Day': {'Name': 'Labor Day', 'Month': 'September', 'Year': 1935, 'Max_Sustained_Wind': 185, 'Areas_Affected': ['The Bahamas', 'Florida', 'Georgia', 'The Carolinas', 'Virginia'], 'Damage': 'Damages not recorded', 'Deaths': 408}, 'New England': {'Name': 'New England', 'Month': 'September', 'Year': 1938, 'Max_Sustained_Wind': 160, 'Areas_Affected': ['Southeastern United States', 'Northeastern United States', 'Southwestern Quebec'], 'Damage': 306000000, 'Deaths': 682}, 'Carol': {'Name': 'Carol', 'Month': 'September', 'Year': 1953, 'Max_Sustained_Wind': 160, 'Areas_Affected': ['Bermuda', 'New England', 'Atlantic Canada'], 'Damage': 2000000, 'Deaths': 5}, 'Janet': {'Name': 'Janet', 'Month': 'September', 'Year': 1955, 'Max_Sustained_Wind': 175, 'Areas_Affected': ['Lesser Antilles', 'Central America'], 'Damage': 65800000, 'Deaths': 1023}, 'Carla': {'Name': 'Carla', 'Month': 'September', 'Year': 1961, 'Max_Sustained_Wind': 175, 'Areas_Affected': ['Texas', 'Louisiana', 'Midwestern United States'], 'Damage': 326000000, 'Deaths': 43}, 'Hattie': {'Name': 'Hattie', 'Month': 'October', 'Year': 1961, 'Max_Sustained_Wind': 160, 'Areas_Affected': ['Central America'], 'Damage': 60300000, 'Deaths': 319}, 'Beulah': {'Name': 'Beulah', 'Month': 'September', 'Year': 1967, 'Max_Sustained_Wind': 160, 'Areas_Affected': ['The Caribbean', 'Mexico', 'Texas'], 'Damage': 208000000, 'Deaths': 688}, 'Camille': {'Name': 'Camille', 'Month': 'August', 'Year': 1969, 'Max_Sustained_Wind': 175, 'Areas_Affected': ['Cuba', 'United States Gulf Coast'], 'Damage': 1420000000, 'Deaths': 259}, 'Edith': {'Name': 'Edith', 'Month': 'September', 'Year': 1971, 'Max_Sustained_Wind': 160, 'Areas_Affected': ['The Caribbean', 'Central America', 'Mexico', 'United States Gulf Coast'], 'Damage': 25400000, 'Deaths': 37}, 'Anita': {'Name': 'Anita', 'Month': 'September', 'Year': 1977, 'Max_Sustained_Wind': 175, 'Areas_Affected': ['Mexico'], 'Damage': 'Damages not recorded', 'Deaths': 11}, 'David': {'Name': 'David', 'Month': 'August', 'Year': 1979, 'Max_Sustained_Wind': 175, 'Areas_Affected': ['The Caribbean', 'United States East coast'], 'Damage': 1540000000, 'Deaths': 2068}, 'Allen': {'Name': 'Allen', 'Month': 'August', 'Year': 1980, 'Max_Sustained_Wind': 190, 'Areas_Affected': ['The Caribbean', 'Yucatn Peninsula', 'Mexico', 'South Texas'], 'Damage': 1240000000, 'Deaths': 269}, 'Gilbert': {'Name': 'Gilbert', 'Month': 'September', 'Year': 1988, 'Max_Sustained_Wind': 185, 'Areas_Affected': ['Jamaica', 'Venezuela', 'Central America', 'Hispaniola', 'Mexico'], 'Damage': 7100000000, 'Deaths': 318}, 'Hugo': {'Name': 'Hugo', 'Month': 'September', 'Year': 1989, 'Max_Sustained_Wind': 160, 'Areas_Affected': ['The Caribbean', 'United States East Coast'], 'Damage': 10000000000, 'Deaths': 107}, 'Andrew': {'Name': 'Andrew', 'Month': 'August', 'Year': 1992, 'Max_Sustained_Wind': 175, 'Areas_Affected': ['The Bahamas', 'Florida', 'United States Gulf Coast'], 'Damage': 26500000000, 'Deaths': 65}, 'Mitch': {'Name': 'Mitch', 'Month': 'October', 'Year': 1998, 'Max_Sustained_Wind': 180, 'Areas_Affected': ['Central America', 'Yucatn Peninsula', 'South Florida'], 'Damage': 6200000000, 'Deaths': 19325}, 'Isabel': {'Name': 'Isabel', 'Month': 'September', 'Year': 2003, 'Max_Sustained_Wind': 165, 'Areas_Affected': ['Greater Antilles', 'Bahamas', 'Eastern United States', 'Ontario'], 'Damage': 5370000000, 'Deaths': 51}, 'Ivan': {'Name': 'Ivan', 'Month': 'September', 'Year': 2004, 'Max_Sustained_Wind': 165, 'Areas_Affected': ['The Caribbean', 'Venezuela', 'United States Gulf Coast'], 'Damage': 23300000000, 'Deaths': 124}, 'Emily': {'Name': 'Emily', 'Month': 'July', 'Year': 2005, 'Max_Sustained_Wind': 160, 'Areas_Affected': ['Windward Islands', 'Jamaica', 'Mexico', 'Texas'], 'Damage': 1010000000, 'Deaths': 17}, 'Katrina': {'Name': 'Katrina', 'Month': 'August', 'Year': 2005, 'Max_Sustained_Wind': 175, 'Areas_Affected': ['Bahamas', 'United States Gulf Coast'], 'Damage': 125000000000, 'Deaths': 1836}, 'Rita': {'Name': 'Rita', 'Month': 'September', 'Year': 2005, 'Max_Sustained_Wind': 180, 'Areas_Affected': ['Cuba', 'United States Gulf Coast'], 'Damage': 12000000000, 'Deaths': 125}, 'Wilma': {'Name': 'Wilma', 'Month': 'October', 'Year': 2005, 'Max_Sustained_Wind': 185, 'Areas_Affected': ['Greater Antilles', 'Central America', 'Florida'], 'Damage': 29400000000, 'Deaths': 87}, 'Dean': {'Name': 'Dean', 'Month': 'August', 'Year': 2007, 'Max_Sustained_Wind': 175, 'Areas_Affected': ['The Caribbean', 'Central America'], 'Damage': 1760000000, 'Deaths': 45}, 'Felix': {'Name': 'Felix', 'Month': 'September', 'Year': 2007, 'Max_Sustained_Wind': 175, 'Areas_Affected': ['Nicaragua', 'Honduras'], 'Damage': 720000000, 'Deaths': 133}, 'Matthew': {'Name': 'Matthew', 'Month': 'October', 'Year': 2016, 'Max_Sustained_Wind': 165, 'Areas_Affected': ['Antilles', 'Venezuela', 'Colombia', 'United States East Coast', 'Atlantic Canada'], 'Damage': 15100000000, 'Deaths': 603}, 'Irma': {'Name': 'Irma', 'Month': 'September', 'Year': 2017, 'Max_Sustained_Wind': 180, 'Areas_Affected': ['Cape Verde', 'The Caribbean', 'British Virgin Islands', 'U.S. Virgin Islands', 'Cuba', 'Florida'], 'Damage': 64800000000, 'Deaths': 138}, 'Maria': {'Name': 'Maria', 'Month': 'September', 'Year': 2017, 'Max_Sustained_Wind': 175, 'Areas_Affected': ['Lesser Antilles', 'Virgin Islands', 'Puerto Rico', 'Dominican Republic', 'Turks and Caicos Islands'], 'Damage': 91600000000, 'Deaths': 3057}, 'Michael': {'Name': 'Michael', 'Month': 'October', 'Year': 2018, 'Max_Sustained_Wind': 160, 'Areas_Affected': ['Central America', 'United States Gulf Coast (especially Florida Panhandle)'], 'Damage': 25100000000, 'Deaths': 74}}\n"
     ]
    }
   ],
   "source": [
    "def build_dict(names, months, years, max_sustained_winds, areas_affected, damages, deaths):\n",
    "    hurricanes = {}\n",
    "    for i in range(len(names)):\n",
    "        hurricanes[names[i]] ={'Name': names[i],\n",
    "                               'Month': months[i], \n",
    "                               'Year': years[i], \n",
    "                               'Max_Sustained_Wind': max_sustained_winds[i], \n",
    "                               'Areas_Affected': areas_affected[i], \n",
    "                               'Damage': updated_damages[i], \n",
    "                               'Deaths': deaths[i]}\n",
    "    return hurricanes\n",
    "hurricanes = build_dict(names, months, years, max_sustained_winds, areas_affected, damages, deaths)\n",
    "print(hurricanes)"
   ]
  },
  {
   "cell_type": "markdown",
   "metadata": {},
   "source": [
    "3 Write a function that converts the current dictionary of hurricanes to a new dictionary, where the keys are years and the values are lists containing a dictionary for each hurricane that occurred in that year.\n",
    " Test your function on your hurricane dictionary.\n",
    "\n",
    "def convert_to_by_year("
   ]
  },
  {
   "cell_type": "code",
   "execution_count": 18,
   "metadata": {
    "collapsed": true
   },
   "outputs": [
    {
     "name": "stdout",
     "output_type": "stream",
     "text": [
      "{1924: [{'Name': 'Cuba I', 'Month': 'October', 'Year': 1924, 'Max_Sustained_Wind': 165, 'areas_affected': ['Central America', 'Mexico', 'Cuba', 'Florida', 'The Bahamas'], 'damage': 'Damages not recorded', 'deaths': 90}], 1928: [{'Name': 'San Felipe II Okeechobee', 'Month': 'September', 'Year': 1928, 'Max_Sustained_Wind': 160, 'areas_affected': ['Lesser Antilles', 'The Bahamas', 'United States East Coast', 'Atlantic Canada'], 'damage': '100M', 'deaths': 4000}], 1932: [{'Name': 'Bahamas', 'Month': 'September', 'Year': 1932, 'Max_Sustained_Wind': 160, 'areas_affected': ['The Bahamas', 'Northeastern United States'], 'damage': 'Damages not recorded', 'deaths': 16}, {'Name': 'Cuba II', 'Month': 'November', 'Year': 1932, 'Max_Sustained_Wind': 175, 'areas_affected': ['Lesser Antilles', 'Jamaica', 'Cayman Islands', 'Cuba', 'The Bahamas', 'Bermuda'], 'damage': '40M', 'deaths': 3103}], 1933: [{'Name': 'CubaBrownsville', 'Month': 'August', 'Year': 1933, 'Max_Sustained_Wind': 160, 'areas_affected': ['The Bahamas', 'Cuba', 'Florida', 'Texas', 'Tamaulipas'], 'damage': '27.9M', 'deaths': 179}, {'Name': 'Tampico', 'Month': 'September', 'Year': 1933, 'Max_Sustained_Wind': 160, 'areas_affected': ['Jamaica', 'Yucatn Peninsula'], 'damage': '5M', 'deaths': 184}], 1935: [{'Name': 'Labor Day', 'Month': 'September', 'Year': 1935, 'Max_Sustained_Wind': 185, 'areas_affected': ['The Bahamas', 'Florida', 'Georgia', 'The Carolinas', 'Virginia'], 'damage': 'Damages not recorded', 'deaths': 408}], 1938: [{'Name': 'New England', 'Month': 'September', 'Year': 1938, 'Max_Sustained_Wind': 160, 'areas_affected': ['Southeastern United States', 'Northeastern United States', 'Southwestern Quebec'], 'damage': '306M', 'deaths': 682}], 1953: [{'Name': 'Carol', 'Month': 'September', 'Year': 1953, 'Max_Sustained_Wind': 160, 'areas_affected': ['Bermuda', 'New England', 'Atlantic Canada'], 'damage': '2M', 'deaths': 5}], 1955: [{'Name': 'Janet', 'Month': 'September', 'Year': 1955, 'Max_Sustained_Wind': 175, 'areas_affected': ['Lesser Antilles', 'Central America'], 'damage': '65.8M', 'deaths': 1023}], 1961: [{'Name': 'Carla', 'Month': 'September', 'Year': 1961, 'Max_Sustained_Wind': 175, 'areas_affected': ['Texas', 'Louisiana', 'Midwestern United States'], 'damage': '326M', 'deaths': 43}, {'Name': 'Hattie', 'Month': 'October', 'Year': 1961, 'Max_Sustained_Wind': 160, 'areas_affected': ['Central America'], 'damage': '60.3M', 'deaths': 319}], 1967: [{'Name': 'Beulah', 'Month': 'September', 'Year': 1967, 'Max_Sustained_Wind': 160, 'areas_affected': ['The Caribbean', 'Mexico', 'Texas'], 'damage': '208M', 'deaths': 688}], 1969: [{'Name': 'Camille', 'Month': 'August', 'Year': 1969, 'Max_Sustained_Wind': 175, 'areas_affected': ['Cuba', 'United States Gulf Coast'], 'damage': '1.42B', 'deaths': 259}], 1971: [{'Name': 'Edith', 'Month': 'September', 'Year': 1971, 'Max_Sustained_Wind': 160, 'areas_affected': ['The Caribbean', 'Central America', 'Mexico', 'United States Gulf Coast'], 'damage': '25.4M', 'deaths': 37}], 1977: [{'Name': 'Anita', 'Month': 'September', 'Year': 1977, 'Max_Sustained_Wind': 175, 'areas_affected': ['Mexico'], 'damage': 'Damages not recorded', 'deaths': 11}], 1979: [{'Name': 'David', 'Month': 'August', 'Year': 1979, 'Max_Sustained_Wind': 175, 'areas_affected': ['The Caribbean', 'United States East coast'], 'damage': '1.54B', 'deaths': 2068}], 1980: [{'Name': 'Allen', 'Month': 'August', 'Year': 1980, 'Max_Sustained_Wind': 190, 'areas_affected': ['The Caribbean', 'Yucatn Peninsula', 'Mexico', 'South Texas'], 'damage': '1.24B', 'deaths': 269}], 1988: [{'Name': 'Gilbert', 'Month': 'September', 'Year': 1988, 'Max_Sustained_Wind': 185, 'areas_affected': ['Jamaica', 'Venezuela', 'Central America', 'Hispaniola', 'Mexico'], 'damage': '7.1B', 'deaths': 318}], 1989: [{'Name': 'Hugo', 'Month': 'September', 'Year': 1989, 'Max_Sustained_Wind': 160, 'areas_affected': ['The Caribbean', 'United States East Coast'], 'damage': '10B', 'deaths': 107}], 1992: [{'Name': 'Andrew', 'Month': 'August', 'Year': 1992, 'Max_Sustained_Wind': 175, 'areas_affected': ['The Bahamas', 'Florida', 'United States Gulf Coast'], 'damage': '26.5B', 'deaths': 65}], 1998: [{'Name': 'Mitch', 'Month': 'October', 'Year': 1998, 'Max_Sustained_Wind': 180, 'areas_affected': ['Central America', 'Yucatn Peninsula', 'South Florida'], 'damage': '6.2B', 'deaths': 19325}], 2003: [{'Name': 'Isabel', 'Month': 'September', 'Year': 2003, 'Max_Sustained_Wind': 165, 'areas_affected': ['Greater Antilles', 'Bahamas', 'Eastern United States', 'Ontario'], 'damage': '5.37B', 'deaths': 51}], 2004: [{'Name': 'Ivan', 'Month': 'September', 'Year': 2004, 'Max_Sustained_Wind': 165, 'areas_affected': ['The Caribbean', 'Venezuela', 'United States Gulf Coast'], 'damage': '23.3B', 'deaths': 124}], 2005: [{'Name': 'Emily', 'Month': 'July', 'Year': 2005, 'Max_Sustained_Wind': 160, 'areas_affected': ['Windward Islands', 'Jamaica', 'Mexico', 'Texas'], 'damage': '1.01B', 'deaths': 17}, {'Name': 'Katrina', 'Month': 'August', 'Year': 2005, 'Max_Sustained_Wind': 175, 'areas_affected': ['Bahamas', 'United States Gulf Coast'], 'damage': '125B', 'deaths': 1836}, {'Name': 'Rita', 'Month': 'September', 'Year': 2005, 'Max_Sustained_Wind': 180, 'areas_affected': ['Cuba', 'United States Gulf Coast'], 'damage': '12B', 'deaths': 125}, {'Name': 'Wilma', 'Month': 'October', 'Year': 2005, 'Max_Sustained_Wind': 185, 'areas_affected': ['Greater Antilles', 'Central America', 'Florida'], 'damage': '29.4B', 'deaths': 87}], 2007: [{'Name': 'Dean', 'Month': 'August', 'Year': 2007, 'Max_Sustained_Wind': 175, 'areas_affected': ['The Caribbean', 'Central America'], 'damage': '1.76B', 'deaths': 45}, {'Name': 'Felix', 'Month': 'September', 'Year': 2007, 'Max_Sustained_Wind': 175, 'areas_affected': ['Nicaragua', 'Honduras'], 'damage': '720M', 'deaths': 133}], 2016: [{'Name': 'Matthew', 'Month': 'October', 'Year': 2016, 'Max_Sustained_Wind': 165, 'areas_affected': ['Antilles', 'Venezuela', 'Colombia', 'United States East Coast', 'Atlantic Canada'], 'damage': '15.1B', 'deaths': 603}], 2017: [{'Name': 'Irma', 'Month': 'September', 'Year': 2017, 'Max_Sustained_Wind': 180, 'areas_affected': ['Cape Verde', 'The Caribbean', 'British Virgin Islands', 'U.S. Virgin Islands', 'Cuba', 'Florida'], 'damage': '64.8B', 'deaths': 138}, {'Name': 'Maria', 'Month': 'September', 'Year': 2017, 'Max_Sustained_Wind': 175, 'areas_affected': ['Lesser Antilles', 'Virgin Islands', 'Puerto Rico', 'Dominican Republic', 'Turks and Caicos Islands'], 'damage': '91.6B', 'deaths': 3057}], 2018: [{'Name': 'Michael', 'Month': 'October', 'Year': 2018, 'Max_Sustained_Wind': 160, 'areas_affected': ['Central America', 'United States Gulf Coast (especially Florida Panhandle)'], 'damage': '25.1B', 'deaths': 74}]}\n"
     ]
    }
   ],
   "source": [
    "def convert_to_by_year(hurricanes):\n",
    "    hurricanes_by_years = {}\n",
    "    for i in range(len(years)):\n",
    "        if years[i] in hurricanes_by_years:\n",
    "            hurricanes_by_years[years[i]].append(hurricanes[names[i]])\n",
    "        else:\n",
    "            hurricanes_by_years[years[i]] = [hurricanes[names[i]]]\n",
    "    return hurricanes_by_years\n",
    "hurricanes_by_years = convert_to_by_year(hurricanes)\n",
    "print(hurricanes_by_years)"
   ]
  },
  {
   "cell_type": "markdown",
   "metadata": {},
   "source": [
    "4 Write a function that counts how often each area is listed as an affected area of a hurricane. Store and return the results in a dictionary where the keys are the affected areas and the values are counts of how many times the areas were affected.\n",
    " Test your function on your hurricane dictionary."
   ]
  },
  {
   "cell_type": "code",
   "execution_count": 20,
   "metadata": {},
   "outputs": [
    {
     "name": "stdout",
     "output_type": "stream",
     "text": [
      "{'Central America': 9, 'Mexico': 7, 'Cuba': 6, 'Florida': 6, 'The Bahamas': 7, 'Lesser Antilles': 4, 'United States East Coast': 3, 'Atlantic Canada': 3, 'Northeastern United States': 2, 'Jamaica': 4, 'Cayman Islands': 1, 'Bermuda': 2, 'Texas': 4, 'Tamaulipas': 1, 'Yucatn Peninsula': 3, 'Georgia': 1, 'The Carolinas': 1, 'Virginia': 1, 'Southeastern United States': 1, 'Southwestern Quebec': 1, 'New England': 1, 'Louisiana': 1, 'Midwestern United States': 1, 'The Caribbean': 8, 'United States Gulf Coast': 6, 'United States East coast': 1, 'South Texas': 1, 'Venezuela': 3, 'Hispaniola': 1, 'South Florida': 1, 'Greater Antilles': 2, 'Bahamas': 2, 'Eastern United States': 1, 'Ontario': 1, 'Windward Islands': 1, 'Nicaragua': 1, 'Honduras': 1, 'Antilles': 1, 'Colombia': 1, 'Cape Verde': 1, 'British Virgin Islands': 1, 'U.S. Virgin Islands': 1, 'Virgin Islands': 1, 'Puerto Rico': 1, 'Dominican Republic': 1, 'Turks and Caicos Islands': 1, 'United States Gulf Coast (especially Florida Panhandle)': 1}\n"
     ]
    }
   ],
   "source": [
    "def count_by_area(areas_affected):\n",
    "    hurricane_count_by_area = {}\n",
    "    for areas in areas_affected:\n",
    "        for area in areas:\n",
    "            if area in hurricane_count_by_area:\n",
    "                hurricane_count_by_area[area] += 1\n",
    "            else:\n",
    "                hurricane_count_by_area[area] = 1\n",
    "    return hurricane_count_by_area\n",
    "hurricane_count_by_area = count_by_area(areas_affected)\n",
    "print(hurricane_count_by_area)"
   ]
  },
  {
   "cell_type": "markdown",
   "metadata": {},
   "source": [
    "5 Write a function that finds the area affected by the most hurricanes, and how often it was hit.\n",
    "\n",
    "Test your function on your affected area dictionary"
   ]
  },
  {
   "cell_type": "code",
   "execution_count": 21,
   "metadata": {},
   "outputs": [
    {
     "name": "stdout",
     "output_type": "stream",
     "text": [
      "Central America\n"
     ]
    }
   ],
   "source": [
    "def most_affected_area(hurricane_count_by_area):\n",
    "    best_area = ''\n",
    "    best_total = 0\n",
    "    for area in hurricane_count_by_area:\n",
    "        if hurricane_count_by_area[area] > best_total:\n",
    "            best_total = hurricane_count_by_area[area]\n",
    "            best_area = area\n",
    "    return best_area\n",
    "most_affected = most_affected_area(hurricane_count_by_area)\n",
    "print(most_affected)"
   ]
  },
  {
   "cell_type": "markdown",
   "metadata": {},
   "source": [
    "6 Write a function that finds the hurricane that caused the greatest number of deaths, and how many deaths it caused.\n",
    "\n",
    "Test your function on your hurricane dictionary."
   ]
  },
  {
   "cell_type": "code",
   "execution_count": 28,
   "metadata": {},
   "outputs": [
    {
     "name": "stdout",
     "output_type": "stream",
     "text": [
      "['Mitch', 19325]\n"
     ]
    }
   ],
   "source": [
    "def most_dangerous(hurricanes):\n",
    "    greatest_number = 0\n",
    "    worst_hurricane = ''\n",
    "    for hurricane in hurricanes:\n",
    "        if hurricanes[hurricane]['Deaths'] > greatest_number:\n",
    "            greatest_number = hurricanes[hurricane]['Deaths']\n",
    "            worst_hurricane = hurricanes[hurricane]['Name']\n",
    "    return [worst_hurricane, greatest_number]\n",
    "\n",
    "print(most_dangerous(hurricanes))"
   ]
  },
  {
   "cell_type": "markdown",
   "metadata": {},
   "source": [
    "7 Write a function that rates hurricanes on a mortality scale according to the following ratings, where the key is the rating and the value is the upper bound of deaths for that rating.\n",
    " Store the hurricanes in a new dictionary where the keys are mortality ratings and the values are lists containing a dictionary for each hurricane that falls into that mortality rating.\n",
    "\n",
    "Test your function on your hurricane dictionary."
   ]
  },
  {
   "cell_type": "code",
   "execution_count": 40,
   "metadata": {
    "collapsed": true
   },
   "outputs": [
    {
     "name": "stdout",
     "output_type": "stream",
     "text": [
      "{0: [], 1: [{'Name': 'Cuba I', 'Month': 'October', 'Year': 1924, 'Max_Sustained_Wind': 165, 'Areas_Affected': ['Central America', 'Mexico', 'Cuba', 'Florida', 'The Bahamas'], 'Damage': 'Damages not recorded', 'Deaths': 90}, {'Name': 'Bahamas', 'Month': 'September', 'Year': 1932, 'Max_Sustained_Wind': 160, 'Areas_Affected': ['The Bahamas', 'Northeastern United States'], 'Damage': 'Damages not recorded', 'Deaths': 16}, {'Name': 'Carol', 'Month': 'September', 'Year': 1953, 'Max_Sustained_Wind': 160, 'Areas_Affected': ['Bermuda', 'New England', 'Atlantic Canada'], 'Damage': '2M', 'Deaths': 5}, {'Name': 'Carla', 'Month': 'September', 'Year': 1961, 'Max_Sustained_Wind': 175, 'Areas_Affected': ['Texas', 'Louisiana', 'Midwestern United States'], 'Damage': '326M', 'Deaths': 43}, {'Name': 'Edith', 'Month': 'September', 'Year': 1971, 'Max_Sustained_Wind': 160, 'Areas_Affected': ['The Caribbean', 'Central America', 'Mexico', 'United States Gulf Coast'], 'Damage': '25.4M', 'Deaths': 37}, {'Name': 'Anita', 'Month': 'September', 'Year': 1977, 'Max_Sustained_Wind': 175, 'Areas_Affected': ['Mexico'], 'Damage': 'Damages not recorded', 'Deaths': 11}, {'Name': 'Andrew', 'Month': 'August', 'Year': 1992, 'Max_Sustained_Wind': 175, 'Areas_Affected': ['The Bahamas', 'Florida', 'United States Gulf Coast'], 'Damage': '26.5B', 'Deaths': 65}, {'Name': 'Isabel', 'Month': 'September', 'Year': 2003, 'Max_Sustained_Wind': 165, 'Areas_Affected': ['Greater Antilles', 'Bahamas', 'Eastern United States', 'Ontario'], 'Damage': '5.37B', 'Deaths': 51}, {'Name': 'Emily', 'Month': 'July', 'Year': 2005, 'Max_Sustained_Wind': 160, 'Areas_Affected': ['Windward Islands', 'Jamaica', 'Mexico', 'Texas'], 'Damage': '1.01B', 'Deaths': 17}, {'Name': 'Wilma', 'Month': 'October', 'Year': 2005, 'Max_Sustained_Wind': 185, 'Areas_Affected': ['Greater Antilles', 'Central America', 'Florida'], 'Damage': '29.4B', 'Deaths': 87}, {'Name': 'Dean', 'Month': 'August', 'Year': 2007, 'Max_Sustained_Wind': 175, 'Areas_Affected': ['The Caribbean', 'Central America'], 'Damage': '1.76B', 'Deaths': 45}, {'Name': 'Michael', 'Month': 'October', 'Year': 2018, 'Max_Sustained_Wind': 160, 'Areas_Affected': ['Central America', 'United States Gulf Coast (especially Florida Panhandle)'], 'Damage': '25.1B', 'Deaths': 74}], 2: [{'Name': 'CubaBrownsville', 'Month': 'August', 'Year': 1933, 'Max_Sustained_Wind': 160, 'Areas_Affected': ['The Bahamas', 'Cuba', 'Florida', 'Texas', 'Tamaulipas'], 'Damage': '27.9M', 'Deaths': 179}, {'Name': 'Tampico', 'Month': 'September', 'Year': 1933, 'Max_Sustained_Wind': 160, 'Areas_Affected': ['Jamaica', 'Yucatn Peninsula'], 'Damage': '5M', 'Deaths': 184}, {'Name': 'Labor Day', 'Month': 'September', 'Year': 1935, 'Max_Sustained_Wind': 185, 'Areas_Affected': ['The Bahamas', 'Florida', 'Georgia', 'The Carolinas', 'Virginia'], 'Damage': 'Damages not recorded', 'Deaths': 408}, {'Name': 'Hattie', 'Month': 'October', 'Year': 1961, 'Max_Sustained_Wind': 160, 'Areas_Affected': ['Central America'], 'Damage': '60.3M', 'Deaths': 319}, {'Name': 'Camille', 'Month': 'August', 'Year': 1969, 'Max_Sustained_Wind': 175, 'Areas_Affected': ['Cuba', 'United States Gulf Coast'], 'Damage': '1.42B', 'Deaths': 259}, {'Name': 'Allen', 'Month': 'August', 'Year': 1980, 'Max_Sustained_Wind': 190, 'Areas_Affected': ['The Caribbean', 'Yucatn Peninsula', 'Mexico', 'South Texas'], 'Damage': '1.24B', 'Deaths': 269}, {'Name': 'Gilbert', 'Month': 'September', 'Year': 1988, 'Max_Sustained_Wind': 185, 'Areas_Affected': ['Jamaica', 'Venezuela', 'Central America', 'Hispaniola', 'Mexico'], 'Damage': '7.1B', 'Deaths': 318}, {'Name': 'Hugo', 'Month': 'September', 'Year': 1989, 'Max_Sustained_Wind': 160, 'Areas_Affected': ['The Caribbean', 'United States East Coast'], 'Damage': '10B', 'Deaths': 107}, {'Name': 'Ivan', 'Month': 'September', 'Year': 2004, 'Max_Sustained_Wind': 165, 'Areas_Affected': ['The Caribbean', 'Venezuela', 'United States Gulf Coast'], 'Damage': '23.3B', 'Deaths': 124}, {'Name': 'Rita', 'Month': 'September', 'Year': 2005, 'Max_Sustained_Wind': 180, 'Areas_Affected': ['Cuba', 'United States Gulf Coast'], 'Damage': '12B', 'Deaths': 125}, {'Name': 'Felix', 'Month': 'September', 'Year': 2007, 'Max_Sustained_Wind': 175, 'Areas_Affected': ['Nicaragua', 'Honduras'], 'Damage': '720M', 'Deaths': 133}, {'Name': 'Irma', 'Month': 'September', 'Year': 2017, 'Max_Sustained_Wind': 180, 'Areas_Affected': ['Cape Verde', 'The Caribbean', 'British Virgin Islands', 'U.S. Virgin Islands', 'Cuba', 'Florida'], 'Damage': '64.8B', 'Deaths': 138}], 3: [{'Name': 'New England', 'Month': 'September', 'Year': 1938, 'Max_Sustained_Wind': 160, 'Areas_Affected': ['Southeastern United States', 'Northeastern United States', 'Southwestern Quebec'], 'Damage': '306M', 'Deaths': 682}, {'Name': 'Beulah', 'Month': 'September', 'Year': 1967, 'Max_Sustained_Wind': 160, 'Areas_Affected': ['The Caribbean', 'Mexico', 'Texas'], 'Damage': '208M', 'Deaths': 688}, {'Name': 'Matthew', 'Month': 'October', 'Year': 2016, 'Max_Sustained_Wind': 165, 'Areas_Affected': ['Antilles', 'Venezuela', 'Colombia', 'United States East Coast', 'Atlantic Canada'], 'Damage': '15.1B', 'Deaths': 603}], 4: [{'Name': 'San Felipe II Okeechobee', 'Month': 'September', 'Year': 1928, 'Max_Sustained_Wind': 160, 'Areas_Affected': ['Lesser Antilles', 'The Bahamas', 'United States East Coast', 'Atlantic Canada'], 'Damage': '100M', 'Deaths': 4000}, {'Name': 'Cuba II', 'Month': 'November', 'Year': 1932, 'Max_Sustained_Wind': 175, 'Areas_Affected': ['Lesser Antilles', 'Jamaica', 'Cayman Islands', 'Cuba', 'The Bahamas', 'Bermuda'], 'Damage': '40M', 'Deaths': 3103}, {'Name': 'Janet', 'Month': 'September', 'Year': 1955, 'Max_Sustained_Wind': 175, 'Areas_Affected': ['Lesser Antilles', 'Central America'], 'Damage': '65.8M', 'Deaths': 1023}, {'Name': 'David', 'Month': 'August', 'Year': 1979, 'Max_Sustained_Wind': 175, 'Areas_Affected': ['The Caribbean', 'United States East coast'], 'Damage': '1.54B', 'Deaths': 2068}, {'Name': 'Katrina', 'Month': 'August', 'Year': 2005, 'Max_Sustained_Wind': 175, 'Areas_Affected': ['Bahamas', 'United States Gulf Coast'], 'Damage': '125B', 'Deaths': 1836}, {'Name': 'Maria', 'Month': 'September', 'Year': 2017, 'Max_Sustained_Wind': 175, 'Areas_Affected': ['Lesser Antilles', 'Virgin Islands', 'Puerto Rico', 'Dominican Republic', 'Turks and Caicos Islands'], 'Damage': '91.6B', 'Deaths': 3057}], 5: [{'Name': 'Mitch', 'Month': 'October', 'Year': 1998, 'Max_Sustained_Wind': 180, 'Areas_Affected': ['Central America', 'Yucatn Peninsula', 'South Florida'], 'Damage': '6.2B', 'Deaths': 19325}]}\n"
     ]
    }
   ],
   "source": [
    "mortality_scale = {0: 0,\n",
    "                   1: 100,\n",
    "                   2: 500,\n",
    "                   3: 1000,\n",
    "                   4: 10000}\n",
    "\n",
    "def sort_by_mortality(hurricanes):\n",
    "    hurricanes_by_mortality = {0: [], 1: [], 2: [], 3: [], 4: [], 5: []}\n",
    "    for hurricane in hurricanes:\n",
    "        for i in range(5):\n",
    "            if hurricanes[hurricane]['Deaths'] <= mortality_scale[i]:\n",
    "                hurricanes_by_mortality[i].append(hurricanes[hurricane])\n",
    "                break\n",
    "        if hurricanes[hurricane]['Deaths'] > mortality_scale[4]:\n",
    "            hurricanes_by_mortality[5].append(hurricanes[hurricane])\n",
    "    return hurricanes_by_mortality\n",
    "hurricanes_by_mortality = sort_by_mortality(hurricanes)\n",
    "print(hurricanes_by_mortality)"
   ]
  },
  {
   "cell_type": "markdown",
   "metadata": {},
   "source": [
    "8 Write a function that finds the hurricane that caused the greatest damage, and how costly it was.\n",
    "\n",
    " Test your function on your hurricane dictionary."
   ]
  },
  {
   "cell_type": "code",
   "execution_count": 48,
   "metadata": {},
   "outputs": [
    {
     "name": "stdout",
     "output_type": "stream",
     "text": [
      "['Katrina', 125000000000]\n"
     ]
    }
   ],
   "source": [
    "def most_costly(hurricanes):\n",
    "    cost = 0\n",
    "    costly_hurricane = ''\n",
    "    for hurricane in hurricanes:\n",
    "        if hurricanes[hurricane]['Damage'] != 'Damages not recorded' and hurricanes[hurricane]['Damage'] > cost:\n",
    "            cost = hurricanes[hurricane]['Damage']\n",
    "            costly_hurricane = hurricanes[hurricane]['Name']\n",
    "    return [costly_hurricane, cost]\n",
    "\n",
    "print(most_costly(hurricanes))"
   ]
  },
  {
   "cell_type": "markdown",
   "metadata": {},
   "source": [
    "9 Write a function that rates hurricanes on a damage scale according to the following ratings, where the key is the rating and the value is the upper bound of damage for that rating.\n",
    " Store the hurricanes in a new dictionary where the keys are damage ratings and the values are lists containing a dictionary for each hurricane that falls into that damage rating.\n",
    "\n",
    "Test your function on your hurricane dictionary."
   ]
  },
  {
   "cell_type": "code",
   "execution_count": 53,
   "metadata": {},
   "outputs": [
    {
     "name": "stdout",
     "output_type": "stream",
     "text": [
      "{0: [{'Name': 'Cuba I', 'Month': 'October', 'Year': 1924, 'Max_Sustained_Wind': 165, 'Areas_Affected': ['Central America', 'Mexico', 'Cuba', 'Florida', 'The Bahamas'], 'Damage': 'Damages not recorded', 'Deaths': 90}, {'Name': 'Bahamas', 'Month': 'September', 'Year': 1932, 'Max_Sustained_Wind': 160, 'Areas_Affected': ['The Bahamas', 'Northeastern United States'], 'Damage': 'Damages not recorded', 'Deaths': 16}, {'Name': 'Labor Day', 'Month': 'September', 'Year': 1935, 'Max_Sustained_Wind': 185, 'Areas_Affected': ['The Bahamas', 'Florida', 'Georgia', 'The Carolinas', 'Virginia'], 'Damage': 'Damages not recorded', 'Deaths': 408}, {'Name': 'Anita', 'Month': 'September', 'Year': 1977, 'Max_Sustained_Wind': 175, 'Areas_Affected': ['Mexico'], 'Damage': 'Damages not recorded', 'Deaths': 11}], 1: [{'Name': 'San Felipe II Okeechobee', 'Month': 'September', 'Year': 1928, 'Max_Sustained_Wind': 160, 'Areas_Affected': ['Lesser Antilles', 'The Bahamas', 'United States East Coast', 'Atlantic Canada'], 'Damage': 100000000, 'Deaths': 4000}, {'Name': 'Cuba II', 'Month': 'November', 'Year': 1932, 'Max_Sustained_Wind': 175, 'Areas_Affected': ['Lesser Antilles', 'Jamaica', 'Cayman Islands', 'Cuba', 'The Bahamas', 'Bermuda'], 'Damage': 40000000, 'Deaths': 3103}, {'Name': 'CubaBrownsville', 'Month': 'August', 'Year': 1933, 'Max_Sustained_Wind': 160, 'Areas_Affected': ['The Bahamas', 'Cuba', 'Florida', 'Texas', 'Tamaulipas'], 'Damage': 27900000, 'Deaths': 179}, {'Name': 'Tampico', 'Month': 'September', 'Year': 1933, 'Max_Sustained_Wind': 160, 'Areas_Affected': ['Jamaica', 'Yucatn Peninsula'], 'Damage': 5000000, 'Deaths': 184}, {'Name': 'Carol', 'Month': 'September', 'Year': 1953, 'Max_Sustained_Wind': 160, 'Areas_Affected': ['Bermuda', 'New England', 'Atlantic Canada'], 'Damage': 2000000, 'Deaths': 5}, {'Name': 'Janet', 'Month': 'September', 'Year': 1955, 'Max_Sustained_Wind': 175, 'Areas_Affected': ['Lesser Antilles', 'Central America'], 'Damage': 65800000, 'Deaths': 1023}, {'Name': 'Hattie', 'Month': 'October', 'Year': 1961, 'Max_Sustained_Wind': 160, 'Areas_Affected': ['Central America'], 'Damage': 60300000, 'Deaths': 319}, {'Name': 'Edith', 'Month': 'September', 'Year': 1971, 'Max_Sustained_Wind': 160, 'Areas_Affected': ['The Caribbean', 'Central America', 'Mexico', 'United States Gulf Coast'], 'Damage': 25400000, 'Deaths': 37}], 2: [{'Name': 'New England', 'Month': 'September', 'Year': 1938, 'Max_Sustained_Wind': 160, 'Areas_Affected': ['Southeastern United States', 'Northeastern United States', 'Southwestern Quebec'], 'Damage': 306000000, 'Deaths': 682}, {'Name': 'Carla', 'Month': 'September', 'Year': 1961, 'Max_Sustained_Wind': 175, 'Areas_Affected': ['Texas', 'Louisiana', 'Midwestern United States'], 'Damage': 326000000, 'Deaths': 43}, {'Name': 'Beulah', 'Month': 'September', 'Year': 1967, 'Max_Sustained_Wind': 160, 'Areas_Affected': ['The Caribbean', 'Mexico', 'Texas'], 'Damage': 208000000, 'Deaths': 688}, {'Name': 'Felix', 'Month': 'September', 'Year': 2007, 'Max_Sustained_Wind': 175, 'Areas_Affected': ['Nicaragua', 'Honduras'], 'Damage': 720000000, 'Deaths': 133}], 3: [{'Name': 'Camille', 'Month': 'August', 'Year': 1969, 'Max_Sustained_Wind': 175, 'Areas_Affected': ['Cuba', 'United States Gulf Coast'], 'Damage': 1420000000, 'Deaths': 259}, {'Name': 'David', 'Month': 'August', 'Year': 1979, 'Max_Sustained_Wind': 175, 'Areas_Affected': ['The Caribbean', 'United States East coast'], 'Damage': 1540000000, 'Deaths': 2068}, {'Name': 'Allen', 'Month': 'August', 'Year': 1980, 'Max_Sustained_Wind': 190, 'Areas_Affected': ['The Caribbean', 'Yucatn Peninsula', 'Mexico', 'South Texas'], 'Damage': 1240000000, 'Deaths': 269}, {'Name': 'Gilbert', 'Month': 'September', 'Year': 1988, 'Max_Sustained_Wind': 185, 'Areas_Affected': ['Jamaica', 'Venezuela', 'Central America', 'Hispaniola', 'Mexico'], 'Damage': 7100000000, 'Deaths': 318}, {'Name': 'Hugo', 'Month': 'September', 'Year': 1989, 'Max_Sustained_Wind': 160, 'Areas_Affected': ['The Caribbean', 'United States East Coast'], 'Damage': 10000000000, 'Deaths': 107}, {'Name': 'Mitch', 'Month': 'October', 'Year': 1998, 'Max_Sustained_Wind': 180, 'Areas_Affected': ['Central America', 'Yucatn Peninsula', 'South Florida'], 'Damage': 6200000000, 'Deaths': 19325}, {'Name': 'Isabel', 'Month': 'September', 'Year': 2003, 'Max_Sustained_Wind': 165, 'Areas_Affected': ['Greater Antilles', 'Bahamas', 'Eastern United States', 'Ontario'], 'Damage': 5370000000, 'Deaths': 51}, {'Name': 'Emily', 'Month': 'July', 'Year': 2005, 'Max_Sustained_Wind': 160, 'Areas_Affected': ['Windward Islands', 'Jamaica', 'Mexico', 'Texas'], 'Damage': 1010000000, 'Deaths': 17}, {'Name': 'Dean', 'Month': 'August', 'Year': 2007, 'Max_Sustained_Wind': 175, 'Areas_Affected': ['The Caribbean', 'Central America'], 'Damage': 1760000000, 'Deaths': 45}], 4: [{'Name': 'Andrew', 'Month': 'August', 'Year': 1992, 'Max_Sustained_Wind': 175, 'Areas_Affected': ['The Bahamas', 'Florida', 'United States Gulf Coast'], 'Damage': 26500000000, 'Deaths': 65}, {'Name': 'Ivan', 'Month': 'September', 'Year': 2004, 'Max_Sustained_Wind': 165, 'Areas_Affected': ['The Caribbean', 'Venezuela', 'United States Gulf Coast'], 'Damage': 23300000000, 'Deaths': 124}, {'Name': 'Rita', 'Month': 'September', 'Year': 2005, 'Max_Sustained_Wind': 180, 'Areas_Affected': ['Cuba', 'United States Gulf Coast'], 'Damage': 12000000000, 'Deaths': 125}, {'Name': 'Wilma', 'Month': 'October', 'Year': 2005, 'Max_Sustained_Wind': 185, 'Areas_Affected': ['Greater Antilles', 'Central America', 'Florida'], 'Damage': 29400000000, 'Deaths': 87}, {'Name': 'Matthew', 'Month': 'October', 'Year': 2016, 'Max_Sustained_Wind': 165, 'Areas_Affected': ['Antilles', 'Venezuela', 'Colombia', 'United States East Coast', 'Atlantic Canada'], 'Damage': 15100000000, 'Deaths': 603}, {'Name': 'Michael', 'Month': 'October', 'Year': 2018, 'Max_Sustained_Wind': 160, 'Areas_Affected': ['Central America', 'United States Gulf Coast (especially Florida Panhandle)'], 'Damage': 25100000000, 'Deaths': 74}], 5: [{'Name': 'Katrina', 'Month': 'August', 'Year': 2005, 'Max_Sustained_Wind': 175, 'Areas_Affected': ['Bahamas', 'United States Gulf Coast'], 'Damage': 125000000000, 'Deaths': 1836}, {'Name': 'Irma', 'Month': 'September', 'Year': 2017, 'Max_Sustained_Wind': 180, 'Areas_Affected': ['Cape Verde', 'The Caribbean', 'British Virgin Islands', 'U.S. Virgin Islands', 'Cuba', 'Florida'], 'Damage': 64800000000, 'Deaths': 138}, {'Name': 'Maria', 'Month': 'September', 'Year': 2017, 'Max_Sustained_Wind': 175, 'Areas_Affected': ['Lesser Antilles', 'Virgin Islands', 'Puerto Rico', 'Dominican Republic', 'Turks and Caicos Islands'], 'Damage': 91600000000, 'Deaths': 3057}]}\n"
     ]
    }
   ],
   "source": [
    "damage_scale = {0: 0,\n",
    "                1: 100000000,\n",
    "                2: 1000000000,\n",
    "                3: 10000000000,\n",
    "                4: 50000000000}\n",
    "\n",
    "def sort_by_damage(hurricanes):\n",
    "    hurricanes_by_damage = {0: [], 1: [], 2: [], 3: [], 4: [], 5: []}\n",
    "    for hurricane in hurricanes:\n",
    "        if hurricanes[hurricane]['Damage'] == 'Damages not recorded':\n",
    "            hurricanes_by_damage[0].append(hurricanes[hurricane])\n",
    "        else:\n",
    "            for i in range(1,5):\n",
    "                if hurricanes[hurricane]['Damage'] <= damage_scale[i]:\n",
    "                    hurricanes_by_damage[i].append(hurricanes[hurricane])\n",
    "                    break\n",
    "            if hurricanes[hurricane]['Damage'] > damage_scale[4]:\n",
    "                hurricanes_by_damage[5].append(hurricanes[hurricane])\n",
    "    return hurricanes_by_damage\n",
    "hurricanes_by_damages = sort_by_damage(hurricanes)\n",
    "print(hurricanes_by_damages)"
   ]
  },
  {
   "cell_type": "code",
   "execution_count": null,
   "metadata": {},
   "outputs": [],
   "source": [
    "\n"
   ]
  }
 ],
 "metadata": {
  "kernelspec": {
   "display_name": "Python 3",
   "language": "python",
   "name": "python3"
  },
  "language_info": {
   "codemirror_mode": {
    "name": "ipython",
    "version": 3
   },
   "file_extension": ".py",
   "mimetype": "text/x-python",
   "name": "python",
   "nbconvert_exporter": "python",
   "pygments_lexer": "ipython3",
   "version": "3.8.1"
  }
 },
 "nbformat": 4,
 "nbformat_minor": 4
}
